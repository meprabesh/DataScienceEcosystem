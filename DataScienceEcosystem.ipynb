{
 "cells": [
  {
   "cell_type": "markdown",
   "id": "96536a54-f7fd-4715-ad3a-31a955274e51",
   "metadata": {
    "tags": []
   },
   "source": [
    "Data Science Tools and Ecosystem"
   ]
  },
  {
   "cell_type": "markdown",
   "id": "c1587b0f-55d4-4183-9dc3-88559d78790b",
   "metadata": {},
   "source": [
    "In this notebook, Data Science Tools and Ecosystem are summarized."
   ]
  },
  {
   "cell_type": "markdown",
   "id": "5573dcc3-8f57-4c47-b2aa-c9763ff4c0d5",
   "metadata": {
    "raw_mimetype": "custom",
    "slideshow": {
     "slide_type": "notes"
    },
    "tags": []
   },
   "source": [
    "Some of the popular languages that Data Scientists use are:"
   ]
  },
  {
   "cell_type": "markdown",
   "id": "cba33692-dd42-4ec1-9f15-d7640abe26e4",
   "metadata": {},
   "source": [
    "Some of the popular languages that Data Scientists use are:\n",
    "\n",
    "1. Python\n",
    "2. R\n",
    "3. SQL"
   ]
  },
  {
   "cell_type": "markdown",
   "id": "cc49b366-29e2-49b7-a0f5-ab7b3c02520c",
   "metadata": {},
   "source": [
    "Some of the commonly used libraries used by Data Scientists include:\n",
    "\n",
    "1. Pandas\n",
    "2. NumPy\n",
    "3. Matplotlib\n",
    "4. Seaborn\n",
    "5. Scikit-learn\n",
    "6. TensorFlow\n",
    "7. Keras\n",
    "8. PyTorch\n",
    "9. SciPy\n",
    "10. Statsmodels"
   ]
  },
  {
   "cell_type": "markdown",
   "id": "4e4f0b5a-d116-40e0-9dec-d0b9607393b7",
   "metadata": {},
   "source": [
    "| Data Science Tools |\n",
    "|--------------------|\n",
    "| Jupyter Notebook   |\n",
    "| RStudio            |\n",
    "| VS Code + Python   |"
   ]
  },
  {
   "cell_type": "markdown",
   "id": "b088b427-dd05-474d-a643-03ee22316f1c",
   "metadata": {},
   "source": [
    "Below are a few examples of evaluating arithmetic expressions in Python.\n",
    "\n",
    "In Python, arithmetic expressions are evaluated using operators like `+`, `-`, `*`, `/`, and `%`. Here are some examples:\n",
    "\n",
    "1. Addition:"
   ]
  },
  {
   "cell_type": "code",
   "execution_count": 9,
   "id": "29176fb6-e134-421c-9ac9-cb2eb4f1c853",
   "metadata": {
    "tags": []
   },
   "outputs": [
    {
     "name": "stdout",
     "output_type": "stream",
     "text": [
      "23\n"
     ]
    }
   ],
   "source": [
    "first_number = 13\n",
    "second_number = 10\n",
    "sum_is = first_number + second_number\n",
    "print(sum_is)"
   ]
  },
  {
   "cell_type": "markdown",
   "id": "6e531e61-8c7c-4c26-af4d-bca4eb84bd84",
   "metadata": {},
   "source": [
    "2.Subtraction:"
   ]
  },
  {
   "cell_type": "code",
   "execution_count": 10,
   "id": "f8be6015-0002-45a0-962c-1a8ef7d1fc12",
   "metadata": {
    "tags": []
   },
   "outputs": [
    {
     "name": "stdout",
     "output_type": "stream",
     "text": [
      "8\n"
     ]
    }
   ],
   "source": [
    "a,b=12,4\n",
    "c=a-b\n",
    "print(c)"
   ]
  },
  {
   "cell_type": "markdown",
   "id": "d17fe9f0-ff09-48eb-82d1-aea8455db7af",
   "metadata": {},
   "source": [
    "3. Multiplication"
   ]
  },
  {
   "cell_type": "code",
   "execution_count": 11,
   "id": "26e5733f-fd97-4fc2-86f2-2aa5cc0005cf",
   "metadata": {
    "tags": []
   },
   "outputs": [
    {
     "name": "stdout",
     "output_type": "stream",
     "text": [
      "144\n"
     ]
    }
   ],
   "source": [
    "a,b=12,12\n",
    "multi = a*b\n",
    "print(multi)"
   ]
  },
  {
   "cell_type": "markdown",
   "id": "d3b98bf0-7e78-43a0-9e8f-4eaed226efd9",
   "metadata": {},
   "source": [
    "convert minutes to hours"
   ]
  },
  {
   "cell_type": "code",
   "execution_count": 12,
   "id": "c723a7a8-d9fe-4d47-b74d-8f55c9523061",
   "metadata": {
    "tags": []
   },
   "outputs": [
    {
     "name": "stdout",
     "output_type": "stream",
     "text": [
      "3.3333333333333335\n"
     ]
    }
   ],
   "source": [
    "#200 minute to hour \n",
    "minute = 200\n",
    "hour = minute /60\n",
    "print(hour)"
   ]
  },
  {
   "cell_type": "markdown",
   "id": "4cdf0cf0-0c66-4ff6-8d69-de749bf93f62",
   "metadata": {},
   "source": [
    "**Objectives:**\n",
    "\n",
    "- List popular languages for Data Science.\n",
    "- Introduce commonly used libraries for Data Science.\n",
    "- Present a table of Data Science tools.\n",
    "- Provide examples of evaluating arithmetic expressions in Python."
   ]
  },
  {
   "cell_type": "markdown",
   "id": "790bb0bc-8ac6-4e61-80ff-a3d1893ccda8",
   "metadata": {
    "tags": []
   },
   "source": [
    "## Author\n",
    "Prabesh Pandey"
   ]
  }
 ],
 "metadata": {
  "kernelspec": {
   "display_name": "Python",
   "language": "python",
   "name": "conda-env-python-py"
  },
  "language_info": {
   "codemirror_mode": {
    "name": "ipython",
    "version": 3
   },
   "file_extension": ".py",
   "mimetype": "text/x-python",
   "name": "python",
   "nbconvert_exporter": "python",
   "pygments_lexer": "ipython3",
   "version": "3.7.12"
  }
 },
 "nbformat": 4,
 "nbformat_minor": 5
}
